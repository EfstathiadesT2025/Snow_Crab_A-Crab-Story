{
 "cells": [
  {
   "cell_type": "markdown",
   "id": "1d468d33-12cb-4a06-8467-72266aa1946c",
   "metadata": {},
   "source": [
    "# Importing libraries"
   ]
  },
  {
   "cell_type": "code",
   "execution_count": 2,
   "id": "3d9a23dc-961f-4b55-949f-8d4ec1620fe4",
   "metadata": {},
   "outputs": [],
   "source": [
    "# Import libraries\n",
    "import pandas as pd\n",
    "import numpy as np\n",
    "import os\n",
    "import matplotlib.pyplot as plt\n",
    "import seaborn as sns\n",
    "import scipy"
   ]
  },
  {
   "cell_type": "markdown",
   "id": "383576ba-6594-4d10-8473-3856c4bb4454",
   "metadata": {},
   "source": [
    "# Importing data"
   ]
  },
  {
   "cell_type": "code",
   "execution_count": 3,
   "id": "2db44f84-8e0e-486f-b748-b2c605de5537",
   "metadata": {},
   "outputs": [],
   "source": [
    "# Python shortcut - reusable path\n",
    "path = r'C:\\Users\\thoma\\OneDrive\\Dokumente\\data analytics\\Imm_Ach 6 DA Project 6\\Snow Crab Ach 6'"
   ]
  },
  {
   "cell_type": "code",
   "execution_count": 4,
   "id": "d833b3bd-5e18-4172-92be-94267984e66f",
   "metadata": {},
   "outputs": [
    {
     "data": {
      "text/plain": [
       "'C:\\\\Users\\\\thoma\\\\OneDrive\\\\Dokumente\\\\data analytics\\\\Imm_Ach 6 DA Project 6\\\\Snow Crab Ach 6'"
      ]
     },
     "execution_count": 4,
     "metadata": {},
     "output_type": "execute_result"
    }
   ],
   "source": [
    "path"
   ]
  },
  {
   "cell_type": "code",
   "execution_count": 5,
   "id": "cd61a81c-1e2d-44f4-a217-f5200cd5ef61",
   "metadata": {},
   "outputs": [],
   "source": [
    "# Importing dataframe\n",
    "df = pd.read_csv(os.path.join(path, 'Data', 'Original data', 'Original Snow Crab.csv'), index_col = False)"
   ]
  },
  {
   "cell_type": "code",
   "execution_count": 6,
   "id": "5f2281bc-1ac6-489b-bea1-a9347ba3285b",
   "metadata": {},
   "outputs": [
    {
     "data": {
      "text/plain": [
       "(17927, 11)"
      ]
     },
     "execution_count": 6,
     "metadata": {},
     "output_type": "execute_result"
    }
   ],
   "source": [
    "df.shape"
   ]
  },
  {
   "cell_type": "code",
   "execution_count": 7,
   "id": "7d9c7b23-112b-4649-a38e-e017771e4045",
   "metadata": {},
   "outputs": [
    {
     "data": {
      "text/html": [
       "<div>\n",
       "<style scoped>\n",
       "    .dataframe tbody tr th:only-of-type {\n",
       "        vertical-align: middle;\n",
       "    }\n",
       "\n",
       "    .dataframe tbody tr th {\n",
       "        vertical-align: top;\n",
       "    }\n",
       "\n",
       "    .dataframe thead th {\n",
       "        text-align: right;\n",
       "    }\n",
       "</style>\n",
       "<table border=\"1\" class=\"dataframe\">\n",
       "  <thead>\n",
       "    <tr style=\"text-align: right;\">\n",
       "      <th></th>\n",
       "      <th>id</th>\n",
       "      <th>latitude</th>\n",
       "      <th>longitude</th>\n",
       "      <th>year</th>\n",
       "      <th>name</th>\n",
       "      <th>sex</th>\n",
       "      <th>bottom_depth</th>\n",
       "      <th>surface_temperature</th>\n",
       "      <th>bottom_temperature</th>\n",
       "      <th>haul</th>\n",
       "      <th>cpue</th>\n",
       "    </tr>\n",
       "  </thead>\n",
       "  <tbody>\n",
       "    <tr>\n",
       "      <th>0</th>\n",
       "      <td>147038</td>\n",
       "      <td>57.00000</td>\n",
       "      <td>-166.45000</td>\n",
       "      <td>1975</td>\n",
       "      <td>snow crab</td>\n",
       "      <td>male</td>\n",
       "      <td>71</td>\n",
       "      <td>9.1</td>\n",
       "      <td>1.1</td>\n",
       "      <td>117</td>\n",
       "      <td>40356</td>\n",
       "    </tr>\n",
       "    <tr>\n",
       "      <th>1</th>\n",
       "      <td>147037</td>\n",
       "      <td>57.00000</td>\n",
       "      <td>-167.08333</td>\n",
       "      <td>1975</td>\n",
       "      <td>snow crab</td>\n",
       "      <td>male</td>\n",
       "      <td>71</td>\n",
       "      <td>8.7</td>\n",
       "      <td>1.4</td>\n",
       "      <td>118</td>\n",
       "      <td>68691</td>\n",
       "    </tr>\n",
       "    <tr>\n",
       "      <th>2</th>\n",
       "      <td>147036</td>\n",
       "      <td>57.00000</td>\n",
       "      <td>-167.68333</td>\n",
       "      <td>1975</td>\n",
       "      <td>snow crab</td>\n",
       "      <td>male</td>\n",
       "      <td>75</td>\n",
       "      <td>8.8</td>\n",
       "      <td>1.6</td>\n",
       "      <td>139</td>\n",
       "      <td>119748</td>\n",
       "    </tr>\n",
       "    <tr>\n",
       "      <th>3</th>\n",
       "      <td>147035</td>\n",
       "      <td>56.66667</td>\n",
       "      <td>-172.56667</td>\n",
       "      <td>1975</td>\n",
       "      <td>snow crab</td>\n",
       "      <td>male</td>\n",
       "      <td>132</td>\n",
       "      <td>6.1</td>\n",
       "      <td>2.5</td>\n",
       "      <td>89</td>\n",
       "      <td>7882</td>\n",
       "    </tr>\n",
       "    <tr>\n",
       "      <th>4</th>\n",
       "      <td>147034</td>\n",
       "      <td>56.66667</td>\n",
       "      <td>-171.96667</td>\n",
       "      <td>1975</td>\n",
       "      <td>snow crab</td>\n",
       "      <td>male</td>\n",
       "      <td>123</td>\n",
       "      <td>5.7</td>\n",
       "      <td>2.1</td>\n",
       "      <td>90</td>\n",
       "      <td>11258</td>\n",
       "    </tr>\n",
       "    <tr>\n",
       "      <th>5</th>\n",
       "      <td>147033</td>\n",
       "      <td>56.66667</td>\n",
       "      <td>-171.33333</td>\n",
       "      <td>1975</td>\n",
       "      <td>snow crab</td>\n",
       "      <td>male</td>\n",
       "      <td>119</td>\n",
       "      <td>5.7</td>\n",
       "      <td>2.5</td>\n",
       "      <td>91</td>\n",
       "      <td>6492</td>\n",
       "    </tr>\n",
       "    <tr>\n",
       "      <th>6</th>\n",
       "      <td>147032</td>\n",
       "      <td>56.66667</td>\n",
       "      <td>-170.73333</td>\n",
       "      <td>1975</td>\n",
       "      <td>snow crab</td>\n",
       "      <td>male</td>\n",
       "      <td>110</td>\n",
       "      <td>6.0</td>\n",
       "      <td>2.4</td>\n",
       "      <td>94</td>\n",
       "      <td>6341</td>\n",
       "    </tr>\n",
       "    <tr>\n",
       "      <th>7</th>\n",
       "      <td>147004</td>\n",
       "      <td>56.35000</td>\n",
       "      <td>-165.23333</td>\n",
       "      <td>1975</td>\n",
       "      <td>snow crab</td>\n",
       "      <td>male</td>\n",
       "      <td>84</td>\n",
       "      <td>7.2</td>\n",
       "      <td>0.5</td>\n",
       "      <td>107</td>\n",
       "      <td>11228</td>\n",
       "    </tr>\n",
       "    <tr>\n",
       "      <th>8</th>\n",
       "      <td>147027</td>\n",
       "      <td>56.68333</td>\n",
       "      <td>-161.00000</td>\n",
       "      <td>1975</td>\n",
       "      <td>snow crab</td>\n",
       "      <td>male</td>\n",
       "      <td>66</td>\n",
       "      <td>2.0</td>\n",
       "      <td>0.8</td>\n",
       "      <td>16</td>\n",
       "      <td>207</td>\n",
       "    </tr>\n",
       "    <tr>\n",
       "      <th>9</th>\n",
       "      <td>147026</td>\n",
       "      <td>56.66667</td>\n",
       "      <td>-161.65000</td>\n",
       "      <td>1975</td>\n",
       "      <td>snow crab</td>\n",
       "      <td>male</td>\n",
       "      <td>90</td>\n",
       "      <td>1.8</td>\n",
       "      <td>1.3</td>\n",
       "      <td>11</td>\n",
       "      <td>829</td>\n",
       "    </tr>\n",
       "    <tr>\n",
       "      <th>10</th>\n",
       "      <td>147024</td>\n",
       "      <td>56.65000</td>\n",
       "      <td>-162.75000</td>\n",
       "      <td>1975</td>\n",
       "      <td>snow crab</td>\n",
       "      <td>male</td>\n",
       "      <td>73</td>\n",
       "      <td>2.5</td>\n",
       "      <td>0.4</td>\n",
       "      <td>5</td>\n",
       "      <td>15852</td>\n",
       "    </tr>\n",
       "    <tr>\n",
       "      <th>11</th>\n",
       "      <td>147023</td>\n",
       "      <td>56.66667</td>\n",
       "      <td>-163.40000</td>\n",
       "      <td>1975</td>\n",
       "      <td>snow crab</td>\n",
       "      <td>male</td>\n",
       "      <td>73</td>\n",
       "      <td>4.6</td>\n",
       "      <td>0.3</td>\n",
       "      <td>47</td>\n",
       "      <td>40817</td>\n",
       "    </tr>\n",
       "    <tr>\n",
       "      <th>12</th>\n",
       "      <td>147022</td>\n",
       "      <td>56.66667</td>\n",
       "      <td>-163.98333</td>\n",
       "      <td>1975</td>\n",
       "      <td>snow crab</td>\n",
       "      <td>male</td>\n",
       "      <td>71</td>\n",
       "      <td>9.6</td>\n",
       "      <td>1.5</td>\n",
       "      <td>110</td>\n",
       "      <td>86525</td>\n",
       "    </tr>\n",
       "    <tr>\n",
       "      <th>13</th>\n",
       "      <td>147021</td>\n",
       "      <td>56.66667</td>\n",
       "      <td>-164.61667</td>\n",
       "      <td>1975</td>\n",
       "      <td>snow crab</td>\n",
       "      <td>male</td>\n",
       "      <td>71</td>\n",
       "      <td>9.2</td>\n",
       "      <td>1.3</td>\n",
       "      <td>109</td>\n",
       "      <td>210164</td>\n",
       "    </tr>\n",
       "    <tr>\n",
       "      <th>14</th>\n",
       "      <td>147009</td>\n",
       "      <td>56.35000</td>\n",
       "      <td>-162.20000</td>\n",
       "      <td>1975</td>\n",
       "      <td>snow crab</td>\n",
       "      <td>male</td>\n",
       "      <td>82</td>\n",
       "      <td>3.9</td>\n",
       "      <td>0.8</td>\n",
       "      <td>7</td>\n",
       "      <td>1189</td>\n",
       "    </tr>\n",
       "    <tr>\n",
       "      <th>15</th>\n",
       "      <td>147010</td>\n",
       "      <td>56.31667</td>\n",
       "      <td>-161.60000</td>\n",
       "      <td>1975</td>\n",
       "      <td>snow crab</td>\n",
       "      <td>male</td>\n",
       "      <td>62</td>\n",
       "      <td>2.7</td>\n",
       "      <td>1.4</td>\n",
       "      <td>10</td>\n",
       "      <td>1174</td>\n",
       "    </tr>\n",
       "    <tr>\n",
       "      <th>16</th>\n",
       "      <td>147011</td>\n",
       "      <td>56.33333</td>\n",
       "      <td>-168.23333</td>\n",
       "      <td>1975</td>\n",
       "      <td>snow crab</td>\n",
       "      <td>male</td>\n",
       "      <td>152</td>\n",
       "      <td>5.8</td>\n",
       "      <td>3.1</td>\n",
       "      <td>75</td>\n",
       "      <td>10106</td>\n",
       "    </tr>\n",
       "    <tr>\n",
       "      <th>17</th>\n",
       "      <td>147012</td>\n",
       "      <td>56.33333</td>\n",
       "      <td>-168.88333</td>\n",
       "      <td>1975</td>\n",
       "      <td>snow crab</td>\n",
       "      <td>male</td>\n",
       "      <td>130</td>\n",
       "      <td>5.3</td>\n",
       "      <td>2.7</td>\n",
       "      <td>76</td>\n",
       "      <td>10291</td>\n",
       "    </tr>\n",
       "    <tr>\n",
       "      <th>18</th>\n",
       "      <td>147013</td>\n",
       "      <td>56.35000</td>\n",
       "      <td>-169.43333</td>\n",
       "      <td>1975</td>\n",
       "      <td>snow crab</td>\n",
       "      <td>male</td>\n",
       "      <td>143</td>\n",
       "      <td>5.2</td>\n",
       "      <td>2.7</td>\n",
       "      <td>77</td>\n",
       "      <td>1651</td>\n",
       "    </tr>\n",
       "    <tr>\n",
       "      <th>19</th>\n",
       "      <td>147014</td>\n",
       "      <td>56.33333</td>\n",
       "      <td>-170.06667</td>\n",
       "      <td>1975</td>\n",
       "      <td>snow crab</td>\n",
       "      <td>male</td>\n",
       "      <td>106</td>\n",
       "      <td>6.2</td>\n",
       "      <td>3.1</td>\n",
       "      <td>96</td>\n",
       "      <td>3831</td>\n",
       "    </tr>\n",
       "    <tr>\n",
       "      <th>20</th>\n",
       "      <td>147015</td>\n",
       "      <td>56.33333</td>\n",
       "      <td>-170.70000</td>\n",
       "      <td>1975</td>\n",
       "      <td>snow crab</td>\n",
       "      <td>male</td>\n",
       "      <td>121</td>\n",
       "      <td>6.0</td>\n",
       "      <td>2.7</td>\n",
       "      <td>93</td>\n",
       "      <td>11030</td>\n",
       "    </tr>\n",
       "    <tr>\n",
       "      <th>21</th>\n",
       "      <td>147016</td>\n",
       "      <td>56.66667</td>\n",
       "      <td>-167.70000</td>\n",
       "      <td>1975</td>\n",
       "      <td>snow crab</td>\n",
       "      <td>male</td>\n",
       "      <td>101</td>\n",
       "      <td>8.8</td>\n",
       "      <td>1.6</td>\n",
       "      <td>141</td>\n",
       "      <td>6906</td>\n",
       "    </tr>\n",
       "    <tr>\n",
       "      <th>22</th>\n",
       "      <td>147017</td>\n",
       "      <td>56.66667</td>\n",
       "      <td>-167.06667</td>\n",
       "      <td>1975</td>\n",
       "      <td>snow crab</td>\n",
       "      <td>male</td>\n",
       "      <td>95</td>\n",
       "      <td>8.8</td>\n",
       "      <td>2.1</td>\n",
       "      <td>142</td>\n",
       "      <td>22919</td>\n",
       "    </tr>\n",
       "    <tr>\n",
       "      <th>23</th>\n",
       "      <td>147018</td>\n",
       "      <td>56.66667</td>\n",
       "      <td>-166.41667</td>\n",
       "      <td>1975</td>\n",
       "      <td>snow crab</td>\n",
       "      <td>male</td>\n",
       "      <td>80</td>\n",
       "      <td>9.7</td>\n",
       "      <td>0.7</td>\n",
       "      <td>116</td>\n",
       "      <td>40686</td>\n",
       "    </tr>\n",
       "    <tr>\n",
       "      <th>24</th>\n",
       "      <td>147019</td>\n",
       "      <td>56.70000</td>\n",
       "      <td>-165.86667</td>\n",
       "      <td>1975</td>\n",
       "      <td>snow crab</td>\n",
       "      <td>male</td>\n",
       "      <td>75</td>\n",
       "      <td>9.3</td>\n",
       "      <td>0.8</td>\n",
       "      <td>115</td>\n",
       "      <td>174502</td>\n",
       "    </tr>\n",
       "    <tr>\n",
       "      <th>25</th>\n",
       "      <td>147020</td>\n",
       "      <td>56.66667</td>\n",
       "      <td>-165.23333</td>\n",
       "      <td>1975</td>\n",
       "      <td>snow crab</td>\n",
       "      <td>male</td>\n",
       "      <td>73</td>\n",
       "      <td>7.9</td>\n",
       "      <td>1.1</td>\n",
       "      <td>108</td>\n",
       "      <td>65521</td>\n",
       "    </tr>\n",
       "    <tr>\n",
       "      <th>26</th>\n",
       "      <td>147003</td>\n",
       "      <td>56.35000</td>\n",
       "      <td>-165.83333</td>\n",
       "      <td>1975</td>\n",
       "      <td>snow crab</td>\n",
       "      <td>male</td>\n",
       "      <td>88</td>\n",
       "      <td>8.8</td>\n",
       "      <td>1.6</td>\n",
       "      <td>106</td>\n",
       "      <td>19753</td>\n",
       "    </tr>\n",
       "    <tr>\n",
       "      <th>27</th>\n",
       "      <td>147002</td>\n",
       "      <td>56.35000</td>\n",
       "      <td>-166.43333</td>\n",
       "      <td>1975</td>\n",
       "      <td>snow crab</td>\n",
       "      <td>male</td>\n",
       "      <td>99</td>\n",
       "      <td>8.3</td>\n",
       "      <td>2.8</td>\n",
       "      <td>105</td>\n",
       "      <td>16408</td>\n",
       "    </tr>\n",
       "    <tr>\n",
       "      <th>28</th>\n",
       "      <td>146323</td>\n",
       "      <td>55.68333</td>\n",
       "      <td>-164.01667</td>\n",
       "      <td>1975</td>\n",
       "      <td>snow crab</td>\n",
       "      <td>male</td>\n",
       "      <td>91</td>\n",
       "      <td>5.6</td>\n",
       "      <td>2.5</td>\n",
       "      <td>57</td>\n",
       "      <td>1849</td>\n",
       "    </tr>\n",
       "    <tr>\n",
       "      <th>29</th>\n",
       "      <td>146324</td>\n",
       "      <td>55.68333</td>\n",
       "      <td>-163.38333</td>\n",
       "      <td>1975</td>\n",
       "      <td>snow crab</td>\n",
       "      <td>male</td>\n",
       "      <td>80</td>\n",
       "      <td>5.6</td>\n",
       "      <td>2.0</td>\n",
       "      <td>56</td>\n",
       "      <td>5812</td>\n",
       "    </tr>\n",
       "  </tbody>\n",
       "</table>\n",
       "</div>"
      ],
      "text/plain": [
       "        id  latitude  longitude  year       name   sex  bottom_depth  \\\n",
       "0   147038  57.00000 -166.45000  1975  snow crab  male            71   \n",
       "1   147037  57.00000 -167.08333  1975  snow crab  male            71   \n",
       "2   147036  57.00000 -167.68333  1975  snow crab  male            75   \n",
       "3   147035  56.66667 -172.56667  1975  snow crab  male           132   \n",
       "4   147034  56.66667 -171.96667  1975  snow crab  male           123   \n",
       "5   147033  56.66667 -171.33333  1975  snow crab  male           119   \n",
       "6   147032  56.66667 -170.73333  1975  snow crab  male           110   \n",
       "7   147004  56.35000 -165.23333  1975  snow crab  male            84   \n",
       "8   147027  56.68333 -161.00000  1975  snow crab  male            66   \n",
       "9   147026  56.66667 -161.65000  1975  snow crab  male            90   \n",
       "10  147024  56.65000 -162.75000  1975  snow crab  male            73   \n",
       "11  147023  56.66667 -163.40000  1975  snow crab  male            73   \n",
       "12  147022  56.66667 -163.98333  1975  snow crab  male            71   \n",
       "13  147021  56.66667 -164.61667  1975  snow crab  male            71   \n",
       "14  147009  56.35000 -162.20000  1975  snow crab  male            82   \n",
       "15  147010  56.31667 -161.60000  1975  snow crab  male            62   \n",
       "16  147011  56.33333 -168.23333  1975  snow crab  male           152   \n",
       "17  147012  56.33333 -168.88333  1975  snow crab  male           130   \n",
       "18  147013  56.35000 -169.43333  1975  snow crab  male           143   \n",
       "19  147014  56.33333 -170.06667  1975  snow crab  male           106   \n",
       "20  147015  56.33333 -170.70000  1975  snow crab  male           121   \n",
       "21  147016  56.66667 -167.70000  1975  snow crab  male           101   \n",
       "22  147017  56.66667 -167.06667  1975  snow crab  male            95   \n",
       "23  147018  56.66667 -166.41667  1975  snow crab  male            80   \n",
       "24  147019  56.70000 -165.86667  1975  snow crab  male            75   \n",
       "25  147020  56.66667 -165.23333  1975  snow crab  male            73   \n",
       "26  147003  56.35000 -165.83333  1975  snow crab  male            88   \n",
       "27  147002  56.35000 -166.43333  1975  snow crab  male            99   \n",
       "28  146323  55.68333 -164.01667  1975  snow crab  male            91   \n",
       "29  146324  55.68333 -163.38333  1975  snow crab  male            80   \n",
       "\n",
       "    surface_temperature  bottom_temperature  haul    cpue  \n",
       "0                   9.1                 1.1   117   40356  \n",
       "1                   8.7                 1.4   118   68691  \n",
       "2                   8.8                 1.6   139  119748  \n",
       "3                   6.1                 2.5    89    7882  \n",
       "4                   5.7                 2.1    90   11258  \n",
       "5                   5.7                 2.5    91    6492  \n",
       "6                   6.0                 2.4    94    6341  \n",
       "7                   7.2                 0.5   107   11228  \n",
       "8                   2.0                 0.8    16     207  \n",
       "9                   1.8                 1.3    11     829  \n",
       "10                  2.5                 0.4     5   15852  \n",
       "11                  4.6                 0.3    47   40817  \n",
       "12                  9.6                 1.5   110   86525  \n",
       "13                  9.2                 1.3   109  210164  \n",
       "14                  3.9                 0.8     7    1189  \n",
       "15                  2.7                 1.4    10    1174  \n",
       "16                  5.8                 3.1    75   10106  \n",
       "17                  5.3                 2.7    76   10291  \n",
       "18                  5.2                 2.7    77    1651  \n",
       "19                  6.2                 3.1    96    3831  \n",
       "20                  6.0                 2.7    93   11030  \n",
       "21                  8.8                 1.6   141    6906  \n",
       "22                  8.8                 2.1   142   22919  \n",
       "23                  9.7                 0.7   116   40686  \n",
       "24                  9.3                 0.8   115  174502  \n",
       "25                  7.9                 1.1   108   65521  \n",
       "26                  8.8                 1.6   106   19753  \n",
       "27                  8.3                 2.8   105   16408  \n",
       "28                  5.6                 2.5    57    1849  \n",
       "29                  5.6                 2.0    56    5812  "
      ]
     },
     "execution_count": 7,
     "metadata": {},
     "output_type": "execute_result"
    }
   ],
   "source": [
    "df.head(30)"
   ]
  },
  {
   "cell_type": "code",
   "execution_count": 8,
   "id": "59170668-4193-4712-b11c-94562d848c29",
   "metadata": {},
   "outputs": [],
   "source": [
    "# Renaming\n",
    "df.rename(columns = {'cpue' : 'catch number/square nautical mile'}, inplace = True)"
   ]
  },
  {
   "cell_type": "code",
   "execution_count": 9,
   "id": "7443e6b0-8c54-4093-a527-710f6f6d37aa",
   "metadata": {},
   "outputs": [
    {
     "data": {
      "text/plain": [
       "Index(['id', 'latitude', 'longitude', 'year', 'name', 'sex', 'bottom_depth',\n",
       "       'surface_temperature', 'bottom_temperature', 'haul',\n",
       "       'catch number/square nautical mile'],\n",
       "      dtype='object')"
      ]
     },
     "execution_count": 9,
     "metadata": {},
     "output_type": "execute_result"
    }
   ],
   "source": [
    "df.columns"
   ]
  },
  {
   "cell_type": "markdown",
   "id": "8d9f86a1-8325-4860-9087-d9f1367492c7",
   "metadata": {},
   "source": [
    "# Cleaning data"
   ]
  },
  {
   "cell_type": "code",
   "execution_count": 10,
   "id": "40d852da-48a4-4f1a-9cd5-ce84e4c27d5e",
   "metadata": {},
   "outputs": [
    {
     "data": {
      "text/plain": [
       "id                                   0\n",
       "latitude                             0\n",
       "longitude                            0\n",
       "year                                 0\n",
       "name                                 0\n",
       "sex                                  0\n",
       "bottom_depth                         0\n",
       "surface_temperature                  0\n",
       "bottom_temperature                   0\n",
       "haul                                 0\n",
       "catch number/square nautical mile    0\n",
       "dtype: int64"
      ]
     },
     "execution_count": 10,
     "metadata": {},
     "output_type": "execute_result"
    }
   ],
   "source": [
    "# Checking for missing values\n",
    "df.isnull().sum()"
   ]
  },
  {
   "cell_type": "code",
   "execution_count": 11,
   "id": "4ae22640-02c9-4d87-a855-32f6f4c2bb00",
   "metadata": {},
   "outputs": [],
   "source": [
    "# No missing values found\n",
    "# Checking for duplicates\n",
    "df_dups = df[df.duplicated()]"
   ]
  },
  {
   "cell_type": "code",
   "execution_count": 12,
   "id": "3c7352f6-2910-404f-aef2-778c6604fcc9",
   "metadata": {},
   "outputs": [
    {
     "data": {
      "text/html": [
       "<div>\n",
       "<style scoped>\n",
       "    .dataframe tbody tr th:only-of-type {\n",
       "        vertical-align: middle;\n",
       "    }\n",
       "\n",
       "    .dataframe tbody tr th {\n",
       "        vertical-align: top;\n",
       "    }\n",
       "\n",
       "    .dataframe thead th {\n",
       "        text-align: right;\n",
       "    }\n",
       "</style>\n",
       "<table border=\"1\" class=\"dataframe\">\n",
       "  <thead>\n",
       "    <tr style=\"text-align: right;\">\n",
       "      <th></th>\n",
       "      <th>id</th>\n",
       "      <th>latitude</th>\n",
       "      <th>longitude</th>\n",
       "      <th>year</th>\n",
       "      <th>name</th>\n",
       "      <th>sex</th>\n",
       "      <th>bottom_depth</th>\n",
       "      <th>surface_temperature</th>\n",
       "      <th>bottom_temperature</th>\n",
       "      <th>haul</th>\n",
       "      <th>catch number/square nautical mile</th>\n",
       "    </tr>\n",
       "  </thead>\n",
       "  <tbody>\n",
       "  </tbody>\n",
       "</table>\n",
       "</div>"
      ],
      "text/plain": [
       "Empty DataFrame\n",
       "Columns: [id, latitude, longitude, year, name, sex, bottom_depth, surface_temperature, bottom_temperature, haul, catch number/square nautical mile]\n",
       "Index: []"
      ]
     },
     "execution_count": 12,
     "metadata": {},
     "output_type": "execute_result"
    }
   ],
   "source": [
    "df_dups"
   ]
  },
  {
   "cell_type": "code",
   "execution_count": 13,
   "id": "7734f87f-a443-4582-ad54-048bcaf1861f",
   "metadata": {},
   "outputs": [],
   "source": [
    "# No duplicates found\n",
    "# Checking for mixed-type columns\n",
    "for col in df.columns:\n",
    " types_in_col = df[col].map(type).nunique()\n",
    " if types_in_col > 1:\n",
    "  print(f\"Column '{col}' has mixed types.\")"
   ]
  },
  {
   "cell_type": "code",
   "execution_count": 14,
   "id": "f3052a91-f133-4d6d-b550-1897047f8282",
   "metadata": {},
   "outputs": [],
   "source": [
    "# No mixed-type columns"
   ]
  },
  {
   "cell_type": "markdown",
   "id": "497055be-d415-486d-be29-5bd787c0284f",
   "metadata": {},
   "source": [
    "# Descriptive analysis"
   ]
  },
  {
   "cell_type": "code",
   "execution_count": 15,
   "id": "cd273cb5-7a7f-4bc1-ae3a-a0fe2366c9c2",
   "metadata": {
    "scrolled": true
   },
   "outputs": [
    {
     "data": {
      "text/html": [
       "<div>\n",
       "<style scoped>\n",
       "    .dataframe tbody tr th:only-of-type {\n",
       "        vertical-align: middle;\n",
       "    }\n",
       "\n",
       "    .dataframe tbody tr th {\n",
       "        vertical-align: top;\n",
       "    }\n",
       "\n",
       "    .dataframe thead th {\n",
       "        text-align: right;\n",
       "    }\n",
       "</style>\n",
       "<table border=\"1\" class=\"dataframe\">\n",
       "  <thead>\n",
       "    <tr style=\"text-align: right;\">\n",
       "      <th></th>\n",
       "      <th>id</th>\n",
       "      <th>latitude</th>\n",
       "      <th>longitude</th>\n",
       "      <th>year</th>\n",
       "      <th>bottom_depth</th>\n",
       "      <th>surface_temperature</th>\n",
       "      <th>bottom_temperature</th>\n",
       "      <th>haul</th>\n",
       "      <th>catch number/square nautical mile</th>\n",
       "    </tr>\n",
       "  </thead>\n",
       "  <tbody>\n",
       "    <tr>\n",
       "      <th>count</th>\n",
       "      <td>17927.000000</td>\n",
       "      <td>17927.000000</td>\n",
       "      <td>17927.000000</td>\n",
       "      <td>17927.000000</td>\n",
       "      <td>17927.000000</td>\n",
       "      <td>17927.000000</td>\n",
       "      <td>17927.000000</td>\n",
       "      <td>17927.000000</td>\n",
       "      <td>1.792700e+04</td>\n",
       "    </tr>\n",
       "    <tr>\n",
       "      <th>mean</th>\n",
       "      <td>162675.094048</td>\n",
       "      <td>58.529967</td>\n",
       "      <td>-170.670173</td>\n",
       "      <td>1997.763653</td>\n",
       "      <td>90.006192</td>\n",
       "      <td>7.124287</td>\n",
       "      <td>1.802226</td>\n",
       "      <td>123.805991</td>\n",
       "      <td>3.287569e+04</td>\n",
       "    </tr>\n",
       "    <tr>\n",
       "      <th>std</th>\n",
       "      <td>7390.543287</td>\n",
       "      <td>1.674403</td>\n",
       "      <td>3.871000</td>\n",
       "      <td>12.039272</td>\n",
       "      <td>28.336891</td>\n",
       "      <td>1.979158</td>\n",
       "      <td>1.737456</td>\n",
       "      <td>51.736292</td>\n",
       "      <td>1.154277e+05</td>\n",
       "    </tr>\n",
       "    <tr>\n",
       "      <th>min</th>\n",
       "      <td>145878.000000</td>\n",
       "      <td>54.666670</td>\n",
       "      <td>-178.223090</td>\n",
       "      <td>1975.000000</td>\n",
       "      <td>22.000000</td>\n",
       "      <td>-1.100000</td>\n",
       "      <td>-2.100000</td>\n",
       "      <td>1.000000</td>\n",
       "      <td>5.200000e+01</td>\n",
       "    </tr>\n",
       "    <tr>\n",
       "      <th>25%</th>\n",
       "      <td>158285.500000</td>\n",
       "      <td>57.166220</td>\n",
       "      <td>-173.589910</td>\n",
       "      <td>1988.000000</td>\n",
       "      <td>68.000000</td>\n",
       "      <td>5.900000</td>\n",
       "      <td>0.600000</td>\n",
       "      <td>86.000000</td>\n",
       "      <td>4.830000e+02</td>\n",
       "    </tr>\n",
       "    <tr>\n",
       "      <th>50%</th>\n",
       "      <td>163807.000000</td>\n",
       "      <td>58.344670</td>\n",
       "      <td>-170.850250</td>\n",
       "      <td>1998.000000</td>\n",
       "      <td>84.000000</td>\n",
       "      <td>7.300000</td>\n",
       "      <td>2.000000</td>\n",
       "      <td>127.000000</td>\n",
       "      <td>3.215000e+03</td>\n",
       "    </tr>\n",
       "    <tr>\n",
       "      <th>75%</th>\n",
       "      <td>168610.500000</td>\n",
       "      <td>59.992260</td>\n",
       "      <td>-167.850550</td>\n",
       "      <td>2008.000000</td>\n",
       "      <td>110.000000</td>\n",
       "      <td>8.600000</td>\n",
       "      <td>3.200000</td>\n",
       "      <td>164.000000</td>\n",
       "      <td>2.100850e+04</td>\n",
       "    </tr>\n",
       "    <tr>\n",
       "      <th>max</th>\n",
       "      <td>173422.000000</td>\n",
       "      <td>62.044500</td>\n",
       "      <td>-158.397950</td>\n",
       "      <td>2018.000000</td>\n",
       "      <td>276.000000</td>\n",
       "      <td>14.100000</td>\n",
       "      <td>10.000000</td>\n",
       "      <td>334.000000</td>\n",
       "      <td>5.117962e+06</td>\n",
       "    </tr>\n",
       "  </tbody>\n",
       "</table>\n",
       "</div>"
      ],
      "text/plain": [
       "                  id      latitude     longitude          year  bottom_depth  \\\n",
       "count   17927.000000  17927.000000  17927.000000  17927.000000  17927.000000   \n",
       "mean   162675.094048     58.529967   -170.670173   1997.763653     90.006192   \n",
       "std      7390.543287      1.674403      3.871000     12.039272     28.336891   \n",
       "min    145878.000000     54.666670   -178.223090   1975.000000     22.000000   \n",
       "25%    158285.500000     57.166220   -173.589910   1988.000000     68.000000   \n",
       "50%    163807.000000     58.344670   -170.850250   1998.000000     84.000000   \n",
       "75%    168610.500000     59.992260   -167.850550   2008.000000    110.000000   \n",
       "max    173422.000000     62.044500   -158.397950   2018.000000    276.000000   \n",
       "\n",
       "       surface_temperature  bottom_temperature          haul  \\\n",
       "count         17927.000000        17927.000000  17927.000000   \n",
       "mean              7.124287            1.802226    123.805991   \n",
       "std               1.979158            1.737456     51.736292   \n",
       "min              -1.100000           -2.100000      1.000000   \n",
       "25%               5.900000            0.600000     86.000000   \n",
       "50%               7.300000            2.000000    127.000000   \n",
       "75%               8.600000            3.200000    164.000000   \n",
       "max              14.100000           10.000000    334.000000   \n",
       "\n",
       "       catch number/square nautical mile  \n",
       "count                       1.792700e+04  \n",
       "mean                        3.287569e+04  \n",
       "std                         1.154277e+05  \n",
       "min                         5.200000e+01  \n",
       "25%                         4.830000e+02  \n",
       "50%                         3.215000e+03  \n",
       "75%                         2.100850e+04  \n",
       "max                         5.117962e+06  "
      ]
     },
     "execution_count": 15,
     "metadata": {},
     "output_type": "execute_result"
    }
   ],
   "source": [
    "df.describe()"
   ]
  },
  {
   "cell_type": "code",
   "execution_count": 16,
   "id": "b0795fdd-611a-4a58-8d6f-73100c034b7e",
   "metadata": {},
   "outputs": [
    {
     "data": {
      "text/plain": [
       "count    1.792700e+04\n",
       "mean     3.287569e+04\n",
       "std      1.154277e+05\n",
       "min      5.200000e+01\n",
       "25%      4.830000e+02\n",
       "50%      3.215000e+03\n",
       "75%      2.100850e+04\n",
       "max      5.117962e+06\n",
       "Name: catch number/square nautical mile, dtype: float64"
      ]
     },
     "execution_count": 16,
     "metadata": {},
     "output_type": "execute_result"
    }
   ],
   "source": [
    "df['catch number/square nautical mile'].describe()"
   ]
  },
  {
   "cell_type": "code",
   "execution_count": 17,
   "id": "31bcdfe0-6754-4560-b576-4587ba61271b",
   "metadata": {},
   "outputs": [
    {
     "name": "stdout",
     "output_type": "stream",
     "text": [
      "52\n"
     ]
    }
   ],
   "source": [
    "min_num = 5.200000e+01\n",
    "print(int(min_num))"
   ]
  },
  {
   "cell_type": "code",
   "execution_count": 18,
   "id": "a895ab27-340b-461e-a0f1-745053b1fde1",
   "metadata": {},
   "outputs": [
    {
     "name": "stdout",
     "output_type": "stream",
     "text": [
      "5117962\n"
     ]
    }
   ],
   "source": [
    "max_num = 5.117962e+06\n",
    "print(int(max_num))"
   ]
  },
  {
   "cell_type": "code",
   "execution_count": 19,
   "id": "08eae6d0-0056-4953-ba41-0dfb43aac28a",
   "metadata": {},
   "outputs": [
    {
     "name": "stdout",
     "output_type": "stream",
     "text": [
      "32875\n"
     ]
    }
   ],
   "source": [
    "mean_num = 3.287569e+04\n",
    "print(int(mean_num))"
   ]
  },
  {
   "cell_type": "code",
   "execution_count": 20,
   "id": "84475360-e2cd-4886-a6fb-1077117193b8",
   "metadata": {},
   "outputs": [
    {
     "name": "stdout",
     "output_type": "stream",
     "text": [
      "115427\n"
     ]
    }
   ],
   "source": [
    "std_num = 1.154277e+05\n",
    "print(int(std_num))"
   ]
  },
  {
   "cell_type": "code",
   "execution_count": 21,
   "id": "a1719e5b-4b54-44c6-810b-78cfee2eb9c2",
   "metadata": {},
   "outputs": [
    {
     "data": {
      "image/png": "[encoded data removed]",
      "text/plain": [
       "<Figure size 640x480 with 1 Axes>"
      ]
     },
     "metadata": {},
     "output_type": "display_data"
    }
   ],
   "source": [
    "# Creating a scatterplot to check for any outliers\n",
    "scatterplot = sns.scatterplot(x = 'catch number/square nautical mile', y = 'catch number/square nautical mile', data = df)"
   ]
  },
  {
   "cell_type": "code",
   "execution_count": 22,
   "id": "7df801eb-ec5c-4298-8535-a788f37e979e",
   "metadata": {},
   "outputs": [],
   "source": [
    "scatterplot.figure.savefig(os.path.join(path, 'Analysis','Visualizations', 'Scatterplot.png'))"
   ]
  },
  {
   "cell_type": "code",
   "execution_count": 23,
   "id": "3b343933-7ae0-4d47-8d26-3f52469c9be0",
   "metadata": {},
   "outputs": [],
   "source": [
    "# 3 potential outliers identified\n",
    "# Removing outliers from the dataframe\n",
    "df.loc[df['catch number/square nautical mile'] >3.000000e+06, 'catch number/square nautical mile'] = np.nan"
   ]
  },
  {
   "cell_type": "code",
   "execution_count": 24,
   "id": "78072591-604f-4f49-8447-35295cb6816f",
   "metadata": {},
   "outputs": [
    {
     "data": {
      "text/plain": [
       "id                                   0\n",
       "latitude                             0\n",
       "longitude                            0\n",
       "year                                 0\n",
       "name                                 0\n",
       "sex                                  0\n",
       "bottom_depth                         0\n",
       "surface_temperature                  0\n",
       "bottom_temperature                   0\n",
       "haul                                 0\n",
       "catch number/square nautical mile    3\n",
       "dtype: int64"
      ]
     },
     "execution_count": 24,
     "metadata": {},
     "output_type": "execute_result"
    }
   ],
   "source": [
    "df.isnull().sum()"
   ]
  },
  {
   "cell_type": "code",
   "execution_count": 25,
   "id": "707aade8-299d-4386-94a3-fb40529cc259",
   "metadata": {},
   "outputs": [],
   "source": [
    "# Creating a copy without NaN\n",
    "df_cleaned = df.dropna()"
   ]
  },
  {
   "cell_type": "code",
   "execution_count": 26,
   "id": "7ffea049-eb25-4e09-a074-3f68e11e537a",
   "metadata": {},
   "outputs": [
    {
     "data": {
      "text/plain": [
       "(17924, 11)"
      ]
     },
     "execution_count": 26,
     "metadata": {},
     "output_type": "execute_result"
    }
   ],
   "source": [
    "df_cleaned.shape"
   ]
  },
  {
   "cell_type": "code",
   "execution_count": 27,
   "id": "f5cc4d52-cbb7-4e5c-8a18-87d8df2661cd",
   "metadata": {},
   "outputs": [
    {
     "data": {
      "image/png": "[encoded data removed]",
      "text/plain": [
       "<Figure size 640x480 with 1 Axes>"
      ]
     },
     "metadata": {},
     "output_type": "display_data"
    }
   ],
   "source": [
    "scatterplot_cleaned = sns.scatterplot(x = 'catch number/square nautical mile', y = 'catch number/square nautical mile', data = df_cleaned)"
   ]
  },
  {
   "cell_type": "code",
   "execution_count": 28,
   "id": "cf7783c0-7cb9-485a-b881-336834585313",
   "metadata": {},
   "outputs": [],
   "source": [
    "scatterplot_cleaned.figure.savefig(os.path.join(path, 'Analysis','Visualizations', 'Scatterplot_cleaned.png'))"
   ]
  },
  {
   "cell_type": "code",
   "execution_count": 29,
   "id": "74493e6e-68af-4cb3-841e-acce7cb4386e",
   "metadata": {},
   "outputs": [],
   "source": [
    "df_cleaned.to_csv(os.path.join(path, 'Data', 'Prepared Data', 'Prepared Snow Crab.csv'))"
   ]
  },
  {
   "cell_type": "code",
   "execution_count": null,
   "id": "62de3ac2-8489-4c72-999d-e3e5b714bde6",
   "metadata": {},
   "outputs": [],
   "source": []
  }
 ],
 "metadata": {
  "kernelspec": {
   "display_name": "Python 3 (ipykernel)",
   "language": "python",
   "name": "python3"
  },
  "language_info": {
   "codemirror_mode": {
    "name": "ipython",
    "version": 3
   },
   "file_extension": ".py",
   "mimetype": "text/x-python",
   "name": "python",
   "nbconvert_exporter": "python",
   "pygments_lexer": "ipython3",
   "version": "3.12.7"
  }
 },
 "nbformat": 4,
 "nbformat_minor": 5
}
