{
 "cells": [
  {
   "cell_type": "markdown",
   "id": "df351384-ec25-4635-bc81-3830b1ae98b3",
   "metadata": {},
   "source": [
    "# Importing libraries"
   ]
  },
  {
   "cell_type": "code",
   "execution_count": 75,
   "id": "33909a80-e59e-4c01-b8e2-d903e2e0553c",
   "metadata": {},
   "outputs": [],
   "source": [
    "import pandas as pd\n",
    "import numpy as np\n",
    "import seaborn as sns\n",
    "import matplotlib\n",
    "import matplotlib.pyplot as plt\n",
    "import os\n",
    "import sklearn\n",
    "from sklearn.model_selection import train_test_split \n",
    "from sklearn.linear_model import LinearRegression\n",
    "from sklearn.metrics import mean_squared_error, r2_score"
   ]
  },
  {
   "cell_type": "code",
   "execution_count": 76,
   "id": "596614b9-ffe1-4fa5-abbb-9ab0ae94cd08",
   "metadata": {},
   "outputs": [],
   "source": [
    "%matplotlib inline"
   ]
  },
  {
   "cell_type": "markdown",
   "id": "357d4fab-b8f6-417c-a753-8fa911e7a393",
   "metadata": {},
   "source": [
    "# Importing data"
   ]
  },
  {
   "cell_type": "code",
   "execution_count": 77,
   "id": "2686903f-f7aa-402e-a64b-cee7c9a004ac",
   "metadata": {},
   "outputs": [],
   "source": [
    "path = r'C:\\Users\\thoma\\OneDrive\\Dokumente\\data analytics\\Imm_Ach 6 DA Project 6\\Snow Crab Ach 6'"
   ]
  },
  {
   "cell_type": "code",
   "execution_count": 78,
   "id": "1613c036-3d05-4e2f-90c9-6121e523cacc",
   "metadata": {},
   "outputs": [
    {
     "data": {
      "text/plain": [
       "'C:\\\\Users\\\\thoma\\\\OneDrive\\\\Dokumente\\\\data analytics\\\\Imm_Ach 6 DA Project 6\\\\Snow Crab Ach 6'"
      ]
     },
     "execution_count": 78,
     "metadata": {},
     "output_type": "execute_result"
    }
   ],
   "source": [
    "path"
   ]
  },
  {
   "cell_type": "code",
   "execution_count": 79,
   "id": "51723719-c5ad-40a7-a04d-64cda7675fef",
   "metadata": {},
   "outputs": [],
   "source": [
    "df = pd.read_csv(os.path.join(path, 'Data', 'Prepared data', 'Cleaned Snow Crab.csv'), index_col = False)"
   ]
  },
  {
   "cell_type": "markdown",
   "id": "e9a5bbac-8163-42a9-ab07-777038d9c321",
   "metadata": {},
   "source": [
    "# Cleaning the data"
   ]
  },
  {
   "cell_type": "code",
   "execution_count": 80,
   "id": "627fafc0-3038-4651-b21a-aab831c77677",
   "metadata": {},
   "outputs": [
    {
     "data": {
      "text/plain": [
       "Index(['Unnamed: 0', 'id', 'latitude', 'longitude', 'year', 'name', 'sex',\n",
       "       'bottom_depth', 'surface_temperature', 'bottom_temperature', 'haul',\n",
       "       'catch number/square nautical mile'],\n",
       "      dtype='object')"
      ]
     },
     "execution_count": 80,
     "metadata": {},
     "output_type": "execute_result"
    }
   ],
   "source": [
    "df.columns"
   ]
  },
  {
   "cell_type": "code",
   "execution_count": 81,
   "id": "19e42e3c-7ce9-46f3-806e-1aa013d021ba",
   "metadata": {},
   "outputs": [],
   "source": [
    "# Subsetting\n",
    "df_cleaned = df[['id', 'latitude', 'longitude', 'year', 'name', 'sex',\n",
    "       'bottom_depth', 'surface_temperature', 'bottom_temperature', 'haul',\n",
    "       'catch number/square nautical mile']]"
   ]
  },
  {
   "cell_type": "code",
   "execution_count": 82,
   "id": "39501613-2fd4-43ec-a33c-489041409fe7",
   "metadata": {},
   "outputs": [
    {
     "data": {
      "text/plain": [
       "Index(['id', 'latitude', 'longitude', 'year', 'name', 'sex', 'bottom_depth',\n",
       "       'surface_temperature', 'bottom_temperature', 'haul',\n",
       "       'catch number/square nautical mile'],\n",
       "      dtype='object')"
      ]
     },
     "execution_count": 82,
     "metadata": {},
     "output_type": "execute_result"
    }
   ],
   "source": [
    "df_cleaned.columns"
   ]
  },
  {
   "cell_type": "code",
   "execution_count": 83,
   "id": "e165d1a5-2469-4e18-b0be-7c857eea37c7",
   "metadata": {},
   "outputs": [
    {
     "data": {
      "text/plain": [
       "(17924, 11)"
      ]
     },
     "execution_count": 83,
     "metadata": {},
     "output_type": "execute_result"
    }
   ],
   "source": [
    "df_cleaned.shape"
   ]
  },
  {
   "cell_type": "code",
   "execution_count": 84,
   "id": "6eee2dab-5717-49e2-b1b5-a098533b9148",
   "metadata": {},
   "outputs": [
    {
     "data": {
      "text/html": [
       "<div>\n",
       "<style scoped>\n",
       "    .dataframe tbody tr th:only-of-type {\n",
       "        vertical-align: middle;\n",
       "    }\n",
       "\n",
       "    .dataframe tbody tr th {\n",
       "        vertical-align: top;\n",
       "    }\n",
       "\n",
       "    .dataframe thead th {\n",
       "        text-align: right;\n",
       "    }\n",
       "</style>\n",
       "<table border=\"1\" class=\"dataframe\">\n",
       "  <thead>\n",
       "    <tr style=\"text-align: right;\">\n",
       "      <th></th>\n",
       "      <th>id</th>\n",
       "      <th>latitude</th>\n",
       "      <th>longitude</th>\n",
       "      <th>year</th>\n",
       "      <th>name</th>\n",
       "      <th>sex</th>\n",
       "      <th>bottom_depth</th>\n",
       "      <th>surface_temperature</th>\n",
       "      <th>bottom_temperature</th>\n",
       "      <th>haul</th>\n",
       "      <th>catch number/square nautical mile</th>\n",
       "    </tr>\n",
       "  </thead>\n",
       "  <tbody>\n",
       "    <tr>\n",
       "      <th>0</th>\n",
       "      <td>147038</td>\n",
       "      <td>57.00000</td>\n",
       "      <td>-166.45000</td>\n",
       "      <td>1975</td>\n",
       "      <td>snow crab</td>\n",
       "      <td>male</td>\n",
       "      <td>71</td>\n",
       "      <td>9.1</td>\n",
       "      <td>1.1</td>\n",
       "      <td>117</td>\n",
       "      <td>40356.0</td>\n",
       "    </tr>\n",
       "    <tr>\n",
       "      <th>1</th>\n",
       "      <td>147037</td>\n",
       "      <td>57.00000</td>\n",
       "      <td>-167.08333</td>\n",
       "      <td>1975</td>\n",
       "      <td>snow crab</td>\n",
       "      <td>male</td>\n",
       "      <td>71</td>\n",
       "      <td>8.7</td>\n",
       "      <td>1.4</td>\n",
       "      <td>118</td>\n",
       "      <td>68691.0</td>\n",
       "    </tr>\n",
       "    <tr>\n",
       "      <th>2</th>\n",
       "      <td>147036</td>\n",
       "      <td>57.00000</td>\n",
       "      <td>-167.68333</td>\n",
       "      <td>1975</td>\n",
       "      <td>snow crab</td>\n",
       "      <td>male</td>\n",
       "      <td>75</td>\n",
       "      <td>8.8</td>\n",
       "      <td>1.6</td>\n",
       "      <td>139</td>\n",
       "      <td>119748.0</td>\n",
       "    </tr>\n",
       "    <tr>\n",
       "      <th>3</th>\n",
       "      <td>147035</td>\n",
       "      <td>56.66667</td>\n",
       "      <td>-172.56667</td>\n",
       "      <td>1975</td>\n",
       "      <td>snow crab</td>\n",
       "      <td>male</td>\n",
       "      <td>132</td>\n",
       "      <td>6.1</td>\n",
       "      <td>2.5</td>\n",
       "      <td>89</td>\n",
       "      <td>7882.0</td>\n",
       "    </tr>\n",
       "    <tr>\n",
       "      <th>4</th>\n",
       "      <td>147034</td>\n",
       "      <td>56.66667</td>\n",
       "      <td>-171.96667</td>\n",
       "      <td>1975</td>\n",
       "      <td>snow crab</td>\n",
       "      <td>male</td>\n",
       "      <td>123</td>\n",
       "      <td>5.7</td>\n",
       "      <td>2.1</td>\n",
       "      <td>90</td>\n",
       "      <td>11258.0</td>\n",
       "    </tr>\n",
       "  </tbody>\n",
       "</table>\n",
       "</div>"
      ],
      "text/plain": [
       "       id  latitude  longitude  year       name   sex  bottom_depth  \\\n",
       "0  147038  57.00000 -166.45000  1975  snow crab  male            71   \n",
       "1  147037  57.00000 -167.08333  1975  snow crab  male            71   \n",
       "2  147036  57.00000 -167.68333  1975  snow crab  male            75   \n",
       "3  147035  56.66667 -172.56667  1975  snow crab  male           132   \n",
       "4  147034  56.66667 -171.96667  1975  snow crab  male           123   \n",
       "\n",
       "   surface_temperature  bottom_temperature  haul  \\\n",
       "0                  9.1                 1.1   117   \n",
       "1                  8.7                 1.4   118   \n",
       "2                  8.8                 1.6   139   \n",
       "3                  6.1                 2.5    89   \n",
       "4                  5.7                 2.1    90   \n",
       "\n",
       "   catch number/square nautical mile  \n",
       "0                            40356.0  \n",
       "1                            68691.0  \n",
       "2                           119748.0  \n",
       "3                             7882.0  \n",
       "4                            11258.0  "
      ]
     },
     "execution_count": 84,
     "metadata": {},
     "output_type": "execute_result"
    }
   ],
   "source": [
    "df_cleaned.head()"
   ]
  },
  {
   "cell_type": "code",
   "execution_count": 85,
   "id": "080e1a4c-d325-45f5-bad8-2b98b8537aaf",
   "metadata": {},
   "outputs": [
    {
     "data": {
      "text/plain": [
       "id                                     int64\n",
       "latitude                             float64\n",
       "longitude                            float64\n",
       "year                                   int64\n",
       "name                                  object\n",
       "sex                                   object\n",
       "bottom_depth                           int64\n",
       "surface_temperature                  float64\n",
       "bottom_temperature                   float64\n",
       "haul                                   int64\n",
       "catch number/square nautical mile    float64\n",
       "dtype: object"
      ]
     },
     "execution_count": 85,
     "metadata": {},
     "output_type": "execute_result"
    }
   ],
   "source": [
    "df_cleaned.dtypes"
   ]
  },
  {
   "cell_type": "code",
   "execution_count": 86,
   "id": "f209ca1c-c031-4047-ac21-9599a4e83179",
   "metadata": {},
   "outputs": [
    {
     "name": "stderr",
     "output_type": "stream",
     "text": [
      "C:\\Users\\thoma\\AppData\\Local\\Temp\\ipykernel_6992\\178145318.py:2: SettingWithCopyWarning: \n",
      "A value is trying to be set on a copy of a slice from a DataFrame.\n",
      "Try using .loc[row_indexer,col_indexer] = value instead\n",
      "\n",
      "See the caveats in the documentation: https://pandas.pydata.org/pandas-docs/stable/user_guide/indexing.html#returning-a-view-versus-a-copy\n",
      "  df_cleaned['id'] = df_cleaned['id'].astype('str')\n"
     ]
    }
   ],
   "source": [
    "# Changing the data type of 'id' to object\n",
    "df_cleaned['id'] = df_cleaned['id'].astype('str')"
   ]
  },
  {
   "cell_type": "code",
   "execution_count": 87,
   "id": "c29bc782-b405-4bed-bd05-524932b91841",
   "metadata": {},
   "outputs": [
    {
     "data": {
      "text/plain": [
       "id                                    object\n",
       "latitude                             float64\n",
       "longitude                            float64\n",
       "year                                   int64\n",
       "name                                  object\n",
       "sex                                   object\n",
       "bottom_depth                           int64\n",
       "surface_temperature                  float64\n",
       "bottom_temperature                   float64\n",
       "haul                                   int64\n",
       "catch number/square nautical mile    float64\n",
       "dtype: object"
      ]
     },
     "execution_count": 87,
     "metadata": {},
     "output_type": "execute_result"
    }
   ],
   "source": [
    "df_cleaned.dtypes"
   ]
  },
  {
   "cell_type": "code",
   "execution_count": 88,
   "id": "dfe5fda8-b1d4-46e7-b6a3-1e9f31b59a49",
   "metadata": {},
   "outputs": [
    {
     "data": {
      "text/plain": [
       "id                                   0\n",
       "latitude                             0\n",
       "longitude                            0\n",
       "year                                 0\n",
       "name                                 0\n",
       "sex                                  0\n",
       "bottom_depth                         0\n",
       "surface_temperature                  0\n",
       "bottom_temperature                   0\n",
       "haul                                 0\n",
       "catch number/square nautical mile    0\n",
       "dtype: int64"
      ]
     },
     "execution_count": 88,
     "metadata": {},
     "output_type": "execute_result"
    }
   ],
   "source": [
    "# Checking for missing values\n",
    "\n",
    "df_cleaned.isnull().sum()"
   ]
  },
  {
   "cell_type": "code",
   "execution_count": 89,
   "id": "82b21540-3ac4-45e2-8522-77ed9fe0b451",
   "metadata": {},
   "outputs": [],
   "source": [
    "# Checking for duplicates\n",
    "\n",
    "dups = df_cleaned.duplicated().sum()"
   ]
  },
  {
   "cell_type": "code",
   "execution_count": 90,
   "id": "081bc8c7-3298-49ec-98ba-320b9dc48f9f",
   "metadata": {},
   "outputs": [
    {
     "data": {
      "text/plain": [
       "0"
      ]
     },
     "execution_count": 90,
     "metadata": {},
     "output_type": "execute_result"
    }
   ],
   "source": [
    "dups"
   ]
  },
  {
   "cell_type": "code",
   "execution_count": 91,
   "id": "e8a9c12f-e5bc-4e6a-a9ad-39a21c3d2900",
   "metadata": {},
   "outputs": [
    {
     "data": {
      "text/plain": [
       "()"
      ]
     },
     "execution_count": 91,
     "metadata": {},
     "output_type": "execute_result"
    }
   ],
   "source": [
    "dups.shape"
   ]
  },
  {
   "cell_type": "code",
   "execution_count": 92,
   "id": "e4eea45b-a703-4826-9866-1eb32f380d77",
   "metadata": {},
   "outputs": [
    {
     "data": {
      "image/png": "[encoded data removed]",
      "text/plain": [
       "<Figure size 640x480 with 1 Axes>"
      ]
     },
     "metadata": {},
     "output_type": "display_data"
    }
   ],
   "source": [
    "# Checking for extreme values\n",
    "\n",
    "sns.histplot(df_cleaned['catch number/square nautical mile'], bins=25)\n",
    "\n",
    "plt.show()"
   ]
  },
  {
   "cell_type": "code",
   "execution_count": 93,
   "id": "26dc9567-4a4f-4d99-939c-076d7893bd9d",
   "metadata": {},
   "outputs": [
    {
     "data": {
      "image/png": "[encoded data removed]",
      "text/plain": [
       "<Figure size 1000x600 with 1 Axes>"
      ]
     },
     "metadata": {},
     "output_type": "display_data"
    }
   ],
   "source": [
    "# Plotting on a log scale according to data spread and sample size\n",
    "\n",
    "plt.figure(figsize=(10,6))\n",
    "sns.histplot(df_cleaned['catch number/square nautical mile'], bins='fd', kde=True, edgecolor='black', alpha=0.6)\n",
    "plt.xscale('log')\n",
    "plt.xlabel('catch number/square nautical mile')\n",
    "plt.show()"
   ]
  },
  {
   "cell_type": "code",
   "execution_count": 94,
   "id": "a157e185-2ac1-4d80-884b-3ff510ba89d8",
   "metadata": {},
   "outputs": [
    {
     "data": {
      "text/plain": [
       "count    1.792400e+04\n",
       "mean     3.208863e+04\n",
       "std      9.789823e+04\n",
       "min      5.200000e+01\n",
       "25%      4.827500e+02\n",
       "50%      3.214000e+03\n",
       "75%      2.095875e+04\n",
       "max      2.592070e+06\n",
       "Name: catch number/square nautical mile, dtype: float64"
      ]
     },
     "execution_count": 94,
     "metadata": {},
     "output_type": "execute_result"
    }
   ],
   "source": [
    "# Descriptive stats of catch number\n",
    "df_cleaned['catch number/square nautical mile'].describe()"
   ]
  },
  {
   "cell_type": "code",
   "execution_count": 95,
   "id": "ebea6559-e62d-47b2-a3ae-cb3eb0605f75",
   "metadata": {},
   "outputs": [],
   "source": [
    "# Removing further potential outliers\n",
    "\n",
    "df_filtered = df_cleaned.loc[df_cleaned['catch number/square nautical mile'] <= 100000].copy()"
   ]
  },
  {
   "cell_type": "code",
   "execution_count": 96,
   "id": "0fdc7511-3623-4511-9457-29af4e162d70",
   "metadata": {},
   "outputs": [
    {
     "data": {
      "text/plain": [
       "count    16450.000000\n",
       "mean     11817.496839\n",
       "std      20215.873398\n",
       "min         52.000000\n",
       "25%        414.000000\n",
       "50%       2390.000000\n",
       "75%      12815.500000\n",
       "max      99977.000000\n",
       "Name: catch number/square nautical mile, dtype: float64"
      ]
     },
     "execution_count": 96,
     "metadata": {},
     "output_type": "execute_result"
    }
   ],
   "source": [
    "df_filtered['catch number/square nautical mile'].describe()"
   ]
  },
  {
   "cell_type": "markdown",
   "id": "98e7d002-7034-45cc-8b1b-61cab0054cb0",
   "metadata": {},
   "source": [
    "# Preparing the data"
   ]
  },
  {
   "cell_type": "code",
   "execution_count": 97,
   "id": "59b58f0c-bc20-484d-a5fc-6c75ee775e94",
   "metadata": {},
   "outputs": [
    {
     "data": {
      "image/png": "[encoded data removed]",
      "text/plain": [
       "<Figure size 640x480 with 1 Axes>"
      ]
     },
     "metadata": {},
     "output_type": "display_data"
    }
   ],
   "source": [
    "# Creating a scatterplot between relevant variables\n",
    "\n",
    "g = df_filtered.plot(x = 'surface_temperature', y='catch number/square nautical mile',style='o')\n",
    "plt.title('Surface Temperature vs Catch Number')  \n",
    "plt.xlabel('surface_temperature')  \n",
    "plt.ylabel('catch number/square nautical mile')  \n",
    "plt.show()"
   ]
  },
  {
   "cell_type": "code",
   "execution_count": 98,
   "id": "ce777022-d993-4489-9eab-7074dafd28d8",
   "metadata": {},
   "outputs": [],
   "source": [
    "g.figure\n",
    "g.figure.savefig(os.path.join(path, 'Analysis', 'Visualizations', 'Surface Temp vs Catch Number.png'))"
   ]
  },
  {
   "cell_type": "markdown",
   "id": "dd1617f0-5676-42c1-926b-70da2e716f3f",
   "metadata": {},
   "source": [
    "# Null-Hypothesis: There's no increase in the catch number with increase of surface temperature."
   ]
  },
  {
   "cell_type": "code",
   "execution_count": 99,
   "id": "1fd5d380-f80f-49ba-99e9-ea7bb8ff21e6",
   "metadata": {},
   "outputs": [],
   "source": [
    "# Reshaping the variables into NumPy arrays\n",
    "\n",
    "X = df_filtered['surface_temperature'].values.reshape(-1,1)\n",
    "y = df_filtered['catch number/square nautical mile'].values.reshape(-1,1)"
   ]
  },
  {
   "cell_type": "code",
   "execution_count": 100,
   "id": "8575b63e-5de4-49c9-83c6-6e61b4053cbd",
   "metadata": {},
   "outputs": [],
   "source": [
    "# Splitting the data into two sets - training & testing data\n",
    "\n",
    "X_train, X_test, y_train, y_test = train_test_split(X, y, test_size=0.3, random_state=0)"
   ]
  },
  {
   "cell_type": "markdown",
   "id": "52397855-e7f8-47c8-a94e-6947504ab092",
   "metadata": {},
   "source": [
    "# Regression analysis"
   ]
  },
  {
   "cell_type": "code",
   "execution_count": 101,
   "id": "ea384b6d-3600-4504-a255-9e9838938769",
   "metadata": {},
   "outputs": [],
   "source": [
    "# Fitting the regression object onto the training set\n",
    "# Creating the regression object\n",
    "regression = LinearRegression()"
   ]
  },
  {
   "cell_type": "code",
   "execution_count": 102,
   "id": "098b9826-f69c-4a0a-b066-60918be815f5",
   "metadata": {},
   "outputs": [
    {
     "data": {
      "text/html": [
       "<style>#sk-container-id-1 {\n",
       "  /* Definition of color scheme common for light and dark mode */\n",
       "  --sklearn-color-text: black;\n",
       "  --sklearn-color-line: gray;\n",
       "  /* Definition of color scheme for unfitted estimators */\n",
       "  --sklearn-color-unfitted-level-0: #fff5e6;\n",
       "  --sklearn-color-unfitted-level-1: #f6e4d2;\n",
       "  --sklearn-color-unfitted-level-2: #ffe0b3;\n",
       "  --sklearn-color-unfitted-level-3: chocolate;\n",
       "  /* Definition of color scheme for fitted estimators */\n",
       "  --sklearn-color-fitted-level-0: #f0f8ff;\n",
       "  --sklearn-color-fitted-level-1: #d4ebff;\n",
       "  --sklearn-color-fitted-level-2: #b3dbfd;\n",
       "  --sklearn-color-fitted-level-3: cornflowerblue;\n",
       "\n",
       "  /* Specific color for light theme */\n",
       "  --sklearn-color-text-on-default-background: var(--sg-text-color, var(--theme-code-foreground, var(--jp-content-font-color1, black)));\n",
       "  --sklearn-color-background: var(--sg-background-color, var(--theme-background, var(--jp-layout-color0, white)));\n",
       "  --sklearn-color-border-box: var(--sg-text-color, var(--theme-code-foreground, var(--jp-content-font-color1, black)));\n",
       "  --sklearn-color-icon: #696969;\n",
       "\n",
       "  @media (prefers-color-scheme: dark) {\n",
       "    /* Redefinition of color scheme for dark theme */\n",
       "    --sklearn-color-text-on-default-background: var(--sg-text-color, var(--theme-code-foreground, var(--jp-content-font-color1, white)));\n",
       "    --sklearn-color-background: var(--sg-background-color, var(--theme-background, var(--jp-layout-color0, #111)));\n",
       "    --sklearn-color-border-box: var(--sg-text-color, var(--theme-code-foreground, var(--jp-content-font-color1, white)));\n",
       "    --sklearn-color-icon: #878787;\n",
       "  }\n",
       "}\n",
       "\n",
       "#sk-container-id-1 {\n",
       "  color: var(--sklearn-color-text);\n",
       "}\n",
       "\n",
       "#sk-container-id-1 pre {\n",
       "  padding: 0;\n",
       "}\n",
       "\n",
       "#sk-container-id-1 input.sk-hidden--visually {\n",
       "  border: 0;\n",
       "  clip: rect(1px 1px 1px 1px);\n",
       "  clip: rect(1px, 1px, 1px, 1px);\n",
       "  height: 1px;\n",
       "  margin: -1px;\n",
       "  overflow: hidden;\n",
       "  padding: 0;\n",
       "  position: absolute;\n",
       "  width: 1px;\n",
       "}\n",
       "\n",
       "#sk-container-id-1 div.sk-dashed-wrapped {\n",
       "  border: 1px dashed var(--sklearn-color-line);\n",
       "  margin: 0 0.4em 0.5em 0.4em;\n",
       "  box-sizing: border-box;\n",
       "  padding-bottom: 0.4em;\n",
       "  background-color: var(--sklearn-color-background);\n",
       "}\n",
       "\n",
       "#sk-container-id-1 div.sk-container {\n",
       "  /* jupyter's `normalize.less` sets `[hidden] { display: none; }`\n",
       "     but bootstrap.min.css set `[hidden] { display: none !important; }`\n",
       "     so we also need the `!important` here to be able to override the\n",
       "     default hidden behavior on the sphinx rendered scikit-learn.org.\n",
       "     See: https://github.com/scikit-learn/scikit-learn/issues/21755 */\n",
       "  display: inline-block !important;\n",
       "  position: relative;\n",
       "}\n",
       "\n",
       "#sk-container-id-1 div.sk-text-repr-fallback {\n",
       "  display: none;\n",
       "}\n",
       "\n",
       "div.sk-parallel-item,\n",
       "div.sk-serial,\n",
       "div.sk-item {\n",
       "  /* draw centered vertical line to link estimators */\n",
       "  background-image: linear-gradient(var(--sklearn-color-text-on-default-background), var(--sklearn-color-text-on-default-background));\n",
       "  background-size: 2px 100%;\n",
       "  background-repeat: no-repeat;\n",
       "  background-position: center center;\n",
       "}\n",
       "\n",
       "/* Parallel-specific style estimator block */\n",
       "\n",
       "#sk-container-id-1 div.sk-parallel-item::after {\n",
       "  content: \"\";\n",
       "  width: 100%;\n",
       "  border-bottom: 2px solid var(--sklearn-color-text-on-default-background);\n",
       "  flex-grow: 1;\n",
       "}\n",
       "\n",
       "#sk-container-id-1 div.sk-parallel {\n",
       "  display: flex;\n",
       "  align-items: stretch;\n",
       "  justify-content: center;\n",
       "  background-color: var(--sklearn-color-background);\n",
       "  position: relative;\n",
       "}\n",
       "\n",
       "#sk-container-id-1 div.sk-parallel-item {\n",
       "  display: flex;\n",
       "  flex-direction: column;\n",
       "}\n",
       "\n",
       "#sk-container-id-1 div.sk-parallel-item:first-child::after {\n",
       "  align-self: flex-end;\n",
       "  width: 50%;\n",
       "}\n",
       "\n",
       "#sk-container-id-1 div.sk-parallel-item:last-child::after {\n",
       "  align-self: flex-start;\n",
       "  width: 50%;\n",
       "}\n",
       "\n",
       "#sk-container-id-1 div.sk-parallel-item:only-child::after {\n",
       "  width: 0;\n",
       "}\n",
       "\n",
       "/* Serial-specific style estimator block */\n",
       "\n",
       "#sk-container-id-1 div.sk-serial {\n",
       "  display: flex;\n",
       "  flex-direction: column;\n",
       "  align-items: center;\n",
       "  background-color: var(--sklearn-color-background);\n",
       "  padding-right: 1em;\n",
       "  padding-left: 1em;\n",
       "}\n",
       "\n",
       "\n",
       "/* Toggleable style: style used for estimator/Pipeline/ColumnTransformer box that is\n",
       "clickable and can be expanded/collapsed.\n",
       "- Pipeline and ColumnTransformer use this feature and define the default style\n",
       "- Estimators will overwrite some part of the style using the `sk-estimator` class\n",
       "*/\n",
       "\n",
       "/* Pipeline and ColumnTransformer style (default) */\n",
       "\n",
       "#sk-container-id-1 div.sk-toggleable {\n",
       "  /* Default theme specific background. It is overwritten whether we have a\n",
       "  specific estimator or a Pipeline/ColumnTransformer */\n",
       "  background-color: var(--sklearn-color-background);\n",
       "}\n",
       "\n",
       "/* Toggleable label */\n",
       "#sk-container-id-1 label.sk-toggleable__label {\n",
       "  cursor: pointer;\n",
       "  display: block;\n",
       "  width: 100%;\n",
       "  margin-bottom: 0;\n",
       "  padding: 0.5em;\n",
       "  box-sizing: border-box;\n",
       "  text-align: center;\n",
       "}\n",
       "\n",
       "#sk-container-id-1 label.sk-toggleable__label-arrow:before {\n",
       "  /* Arrow on the left of the label */\n",
       "  content: \"▸\";\n",
       "  float: left;\n",
       "  margin-right: 0.25em;\n",
       "  color: var(--sklearn-color-icon);\n",
       "}\n",
       "\n",
       "#sk-container-id-1 label.sk-toggleable__label-arrow:hover:before {\n",
       "  color: var(--sklearn-color-text);\n",
       "}\n",
       "\n",
       "/* Toggleable content - dropdown */\n",
       "\n",
       "#sk-container-id-1 div.sk-toggleable__content {\n",
       "  max-height: 0;\n",
       "  max-width: 0;\n",
       "  overflow: hidden;\n",
       "  text-align: left;\n",
       "  /* unfitted */\n",
       "  background-color: var(--sklearn-color-unfitted-level-0);\n",
       "}\n",
       "\n",
       "#sk-container-id-1 div.sk-toggleable__content.fitted {\n",
       "  /* fitted */\n",
       "  background-color: var(--sklearn-color-fitted-level-0);\n",
       "}\n",
       "\n",
       "#sk-container-id-1 div.sk-toggleable__content pre {\n",
       "  margin: 0.2em;\n",
       "  border-radius: 0.25em;\n",
       "  color: var(--sklearn-color-text);\n",
       "  /* unfitted */\n",
       "  background-color: var(--sklearn-color-unfitted-level-0);\n",
       "}\n",
       "\n",
       "#sk-container-id-1 div.sk-toggleable__content.fitted pre {\n",
       "  /* unfitted */\n",
       "  background-color: var(--sklearn-color-fitted-level-0);\n",
       "}\n",
       "\n",
       "#sk-container-id-1 input.sk-toggleable__control:checked~div.sk-toggleable__content {\n",
       "  /* Expand drop-down */\n",
       "  max-height: 200px;\n",
       "  max-width: 100%;\n",
       "  overflow: auto;\n",
       "}\n",
       "\n",
       "#sk-container-id-1 input.sk-toggleable__control:checked~label.sk-toggleable__label-arrow:before {\n",
       "  content: \"▾\";\n",
       "}\n",
       "\n",
       "/* Pipeline/ColumnTransformer-specific style */\n",
       "\n",
       "#sk-container-id-1 div.sk-label input.sk-toggleable__control:checked~label.sk-toggleable__label {\n",
       "  color: var(--sklearn-color-text);\n",
       "  background-color: var(--sklearn-color-unfitted-level-2);\n",
       "}\n",
       "\n",
       "#sk-container-id-1 div.sk-label.fitted input.sk-toggleable__control:checked~label.sk-toggleable__label {\n",
       "  background-color: var(--sklearn-color-fitted-level-2);\n",
       "}\n",
       "\n",
       "/* Estimator-specific style */\n",
       "\n",
       "/* Colorize estimator box */\n",
       "#sk-container-id-1 div.sk-estimator input.sk-toggleable__control:checked~label.sk-toggleable__label {\n",
       "  /* unfitted */\n",
       "  background-color: var(--sklearn-color-unfitted-level-2);\n",
       "}\n",
       "\n",
       "#sk-container-id-1 div.sk-estimator.fitted input.sk-toggleable__control:checked~label.sk-toggleable__label {\n",
       "  /* fitted */\n",
       "  background-color: var(--sklearn-color-fitted-level-2);\n",
       "}\n",
       "\n",
       "#sk-container-id-1 div.sk-label label.sk-toggleable__label,\n",
       "#sk-container-id-1 div.sk-label label {\n",
       "  /* The background is the default theme color */\n",
       "  color: var(--sklearn-color-text-on-default-background);\n",
       "}\n",
       "\n",
       "/* On hover, darken the color of the background */\n",
       "#sk-container-id-1 div.sk-label:hover label.sk-toggleable__label {\n",
       "  color: var(--sklearn-color-text);\n",
       "  background-color: var(--sklearn-color-unfitted-level-2);\n",
       "}\n",
       "\n",
       "/* Label box, darken color on hover, fitted */\n",
       "#sk-container-id-1 div.sk-label.fitted:hover label.sk-toggleable__label.fitted {\n",
       "  color: var(--sklearn-color-text);\n",
       "  background-color: var(--sklearn-color-fitted-level-2);\n",
       "}\n",
       "\n",
       "/* Estimator label */\n",
       "\n",
       "#sk-container-id-1 div.sk-label label {\n",
       "  font-family: monospace;\n",
       "  font-weight: bold;\n",
       "  display: inline-block;\n",
       "  line-height: 1.2em;\n",
       "}\n",
       "\n",
       "#sk-container-id-1 div.sk-label-container {\n",
       "  text-align: center;\n",
       "}\n",
       "\n",
       "/* Estimator-specific */\n",
       "#sk-container-id-1 div.sk-estimator {\n",
       "  font-family: monospace;\n",
       "  border: 1px dotted var(--sklearn-color-border-box);\n",
       "  border-radius: 0.25em;\n",
       "  box-sizing: border-box;\n",
       "  margin-bottom: 0.5em;\n",
       "  /* unfitted */\n",
       "  background-color: var(--sklearn-color-unfitted-level-0);\n",
       "}\n",
       "\n",
       "#sk-container-id-1 div.sk-estimator.fitted {\n",
       "  /* fitted */\n",
       "  background-color: var(--sklearn-color-fitted-level-0);\n",
       "}\n",
       "\n",
       "/* on hover */\n",
       "#sk-container-id-1 div.sk-estimator:hover {\n",
       "  /* unfitted */\n",
       "  background-color: var(--sklearn-color-unfitted-level-2);\n",
       "}\n",
       "\n",
       "#sk-container-id-1 div.sk-estimator.fitted:hover {\n",
       "  /* fitted */\n",
       "  background-color: var(--sklearn-color-fitted-level-2);\n",
       "}\n",
       "\n",
       "/* Specification for estimator info (e.g. \"i\" and \"?\") */\n",
       "\n",
       "/* Common style for \"i\" and \"?\" */\n",
       "\n",
       ".sk-estimator-doc-link,\n",
       "a:link.sk-estimator-doc-link,\n",
       "a:visited.sk-estimator-doc-link {\n",
       "  float: right;\n",
       "  font-size: smaller;\n",
       "  line-height: 1em;\n",
       "  font-family: monospace;\n",
       "  background-color: var(--sklearn-color-background);\n",
       "  border-radius: 1em;\n",
       "  height: 1em;\n",
       "  width: 1em;\n",
       "  text-decoration: none !important;\n",
       "  margin-left: 1ex;\n",
       "  /* unfitted */\n",
       "  border: var(--sklearn-color-unfitted-level-1) 1pt solid;\n",
       "  color: var(--sklearn-color-unfitted-level-1);\n",
       "}\n",
       "\n",
       ".sk-estimator-doc-link.fitted,\n",
       "a:link.sk-estimator-doc-link.fitted,\n",
       "a:visited.sk-estimator-doc-link.fitted {\n",
       "  /* fitted */\n",
       "  border: var(--sklearn-color-fitted-level-1) 1pt solid;\n",
       "  color: var(--sklearn-color-fitted-level-1);\n",
       "}\n",
       "\n",
       "/* On hover */\n",
       "div.sk-estimator:hover .sk-estimator-doc-link:hover,\n",
       ".sk-estimator-doc-link:hover,\n",
       "div.sk-label-container:hover .sk-estimator-doc-link:hover,\n",
       ".sk-estimator-doc-link:hover {\n",
       "  /* unfitted */\n",
       "  background-color: var(--sklearn-color-unfitted-level-3);\n",
       "  color: var(--sklearn-color-background);\n",
       "  text-decoration: none;\n",
       "}\n",
       "\n",
       "div.sk-estimator.fitted:hover .sk-estimator-doc-link.fitted:hover,\n",
       ".sk-estimator-doc-link.fitted:hover,\n",
       "div.sk-label-container:hover .sk-estimator-doc-link.fitted:hover,\n",
       ".sk-estimator-doc-link.fitted:hover {\n",
       "  /* fitted */\n",
       "  background-color: var(--sklearn-color-fitted-level-3);\n",
       "  color: var(--sklearn-color-background);\n",
       "  text-decoration: none;\n",
       "}\n",
       "\n",
       "/* Span, style for the box shown on hovering the info icon */\n",
       ".sk-estimator-doc-link span {\n",
       "  display: none;\n",
       "  z-index: 9999;\n",
       "  position: relative;\n",
       "  font-weight: normal;\n",
       "  right: .2ex;\n",
       "  padding: .5ex;\n",
       "  margin: .5ex;\n",
       "  width: min-content;\n",
       "  min-width: 20ex;\n",
       "  max-width: 50ex;\n",
       "  color: var(--sklearn-color-text);\n",
       "  box-shadow: 2pt 2pt 4pt #999;\n",
       "  /* unfitted */\n",
       "  background: var(--sklearn-color-unfitted-level-0);\n",
       "  border: .5pt solid var(--sklearn-color-unfitted-level-3);\n",
       "}\n",
       "\n",
       ".sk-estimator-doc-link.fitted span {\n",
       "  /* fitted */\n",
       "  background: var(--sklearn-color-fitted-level-0);\n",
       "  border: var(--sklearn-color-fitted-level-3);\n",
       "}\n",
       "\n",
       ".sk-estimator-doc-link:hover span {\n",
       "  display: block;\n",
       "}\n",
       "\n",
       "/* \"?\"-specific style due to the `<a>` HTML tag */\n",
       "\n",
       "#sk-container-id-1 a.estimator_doc_link {\n",
       "  float: right;\n",
       "  font-size: 1rem;\n",
       "  line-height: 1em;\n",
       "  font-family: monospace;\n",
       "  background-color: var(--sklearn-color-background);\n",
       "  border-radius: 1rem;\n",
       "  height: 1rem;\n",
       "  width: 1rem;\n",
       "  text-decoration: none;\n",
       "  /* unfitted */\n",
       "  color: var(--sklearn-color-unfitted-level-1);\n",
       "  border: var(--sklearn-color-unfitted-level-1) 1pt solid;\n",
       "}\n",
       "\n",
       "#sk-container-id-1 a.estimator_doc_link.fitted {\n",
       "  /* fitted */\n",
       "  border: var(--sklearn-color-fitted-level-1) 1pt solid;\n",
       "  color: var(--sklearn-color-fitted-level-1);\n",
       "}\n",
       "\n",
       "/* On hover */\n",
       "#sk-container-id-1 a.estimator_doc_link:hover {\n",
       "  /* unfitted */\n",
       "  background-color: var(--sklearn-color-unfitted-level-3);\n",
       "  color: var(--sklearn-color-background);\n",
       "  text-decoration: none;\n",
       "}\n",
       "\n",
       "#sk-container-id-1 a.estimator_doc_link.fitted:hover {\n",
       "  /* fitted */\n",
       "  background-color: var(--sklearn-color-fitted-level-3);\n",
       "}\n",
       "</style><div id=\"sk-container-id-1\" class=\"sk-top-container\"><div class=\"sk-text-repr-fallback\"><pre>LinearRegression()</pre><b>In a Jupyter environment, please rerun this cell to show the HTML representation or trust the notebook. <br />On GitHub, the HTML representation is unable to render, please try loading this page with nbviewer.org.</b></div><div class=\"sk-container\" hidden><div class=\"sk-item\"><div class=\"sk-estimator fitted sk-toggleable\"><input class=\"sk-toggleable__control sk-hidden--visually\" id=\"sk-estimator-id-1\" type=\"checkbox\" checked><label for=\"sk-estimator-id-1\" class=\"sk-toggleable__label fitted sk-toggleable__label-arrow fitted\">&nbsp;&nbsp;LinearRegression<a class=\"sk-estimator-doc-link fitted\" rel=\"noreferrer\" target=\"_blank\" href=\"https://scikit-learn.org/1.5/modules/generated/sklearn.linear_model.LinearRegression.html\">?<span>Documentation for LinearRegression</span></a><span class=\"sk-estimator-doc-link fitted\">i<span>Fitted</span></span></label><div class=\"sk-toggleable__content fitted\"><pre>LinearRegression()</pre></div> </div></div></div></div>"
      ],
      "text/plain": [
       "LinearRegression()"
      ]
     },
     "execution_count": 102,
     "metadata": {},
     "output_type": "execute_result"
    }
   ],
   "source": [
    "regression.fit(X_train, y_train)"
   ]
  },
  {
   "cell_type": "code",
   "execution_count": 103,
   "id": "741e18d8-e491-4929-bbfa-3ce22ef627a9",
   "metadata": {},
   "outputs": [],
   "source": [
    "# Predicting the values of y using X\n",
    "\n",
    "y_predicted = regression.predict(X_test)"
   ]
  },
  {
   "cell_type": "code",
   "execution_count": 104,
   "id": "1df584fe-835f-4d52-8e13-8db4b89e88de",
   "metadata": {},
   "outputs": [
    {
     "data": {
      "image/png": "[encoded data removed]",
      "text/plain": [
       "<Figure size 640x480 with 1 Axes>"
      ]
     },
     "metadata": {},
     "output_type": "display_data"
    }
   ],
   "source": [
    "# Creating a plot that shows the regression line from the model on the test set\n",
    "\n",
    "plot_test = plt\n",
    "R = plot_test.scatter(X_test, y_test, color='gray', s = 15)\n",
    "plot_test.plot(X_test, y_predicted, color='red', linewidth =3)\n",
    "plot_test.title('Surface Temperature vs Catch Number/Square Nautical Mile (Test set)')\n",
    "plot_test.xlabel('surface_temperature')\n",
    "plot_test.ylabel('catch number/square nautical mile')\n",
    "plot_test.show()"
   ]
  },
  {
   "cell_type": "code",
   "execution_count": 106,
   "id": "c6ded805-6a16-41b5-a516-836a07044163",
   "metadata": {},
   "outputs": [],
   "source": [
    "R.figure\n",
    "R.figure.savefig(os.path.join(path, 'Analysis', 'Visualizations', 'Surface Temp Regression Line.png'))"
   ]
  },
  {
   "cell_type": "markdown",
   "id": "efe65249-f44f-408e-9531-ed6e7c3fdd56",
   "metadata": {},
   "source": [
    "# There's just a slight incline of the regression line and a wide spread of data/observations this linear model does not explain well. Further, beyond a surface temperature of 10 catch numbers seem to drop. Hence, other factors might also play a role and it might suit better applying multiple regression analysis to this data"
   ]
  },
  {
   "cell_type": "code",
   "execution_count": 123,
   "id": "4037ad80-2105-45a5-b84f-98eef7fba2cd",
   "metadata": {},
   "outputs": [],
   "source": [
    "# Creating objects for the model summary statistics\n",
    "\n",
    "rmse = mean_squared_error(y_test, y_predicted)\n",
    "r2 = r2_score(y_test, y_predicted)"
   ]
  },
  {
   "cell_type": "code",
   "execution_count": 124,
   "id": "1c4d6a24-07f6-4ad0-8090-979694ef3c9d",
   "metadata": {},
   "outputs": [
    {
     "name": "stdout",
     "output_type": "stream",
     "text": [
      "Slope: [[399.61921683]]\n",
      "Mean squared error:  421967538.9070317\n",
      "R2 score:  0.0032465873601474904\n"
     ]
    }
   ],
   "source": [
    "# Printing the model summary statistics.\n",
    "\n",
    "print('Slope:' ,regression.coef_)\n",
    "print('Mean squared error: ', rmse)\n",
    "print('R2 score: ', r2)"
   ]
  },
  {
   "cell_type": "markdown",
   "id": "201aeedf-7bce-4332-a7ae-b676715150b7",
   "metadata": {},
   "source": [
    "# This regression line isn’t an accurate representation of the data.\n",
    "# Catch number observations have a standard deviation of about 20,215, while the RMSE (square rooted MSE) is about 20,541. For an adequate interpretation of these performance metrics, the dimension of the scale of a variable and its spread of observations need to be considered in relation to its variance.\n",
    "# With a R2 score closer to 0, this indicates that the model is a poor fit and doesn't explain the variance of this data well."
   ]
  },
  {
   "cell_type": "code",
   "execution_count": 125,
   "id": "6372e47d-5096-4928-9aff-b186f5a99102",
   "metadata": {
    "scrolled": true
   },
   "outputs": [
    {
     "data": {
      "text/html": [
       "<div>\n",
       "<style scoped>\n",
       "    .dataframe tbody tr th:only-of-type {\n",
       "        vertical-align: middle;\n",
       "    }\n",
       "\n",
       "    .dataframe tbody tr th {\n",
       "        vertical-align: top;\n",
       "    }\n",
       "\n",
       "    .dataframe thead th {\n",
       "        text-align: right;\n",
       "    }\n",
       "</style>\n",
       "<table border=\"1\" class=\"dataframe\">\n",
       "  <thead>\n",
       "    <tr style=\"text-align: right;\">\n",
       "      <th></th>\n",
       "      <th>Actual</th>\n",
       "      <th>Predicted</th>\n",
       "    </tr>\n",
       "  </thead>\n",
       "  <tbody>\n",
       "    <tr>\n",
       "      <th>0</th>\n",
       "      <td>4372.0</td>\n",
       "      <td>12007.895786</td>\n",
       "    </tr>\n",
       "    <tr>\n",
       "      <th>1</th>\n",
       "      <td>3257.0</td>\n",
       "      <td>13326.639201</td>\n",
       "    </tr>\n",
       "    <tr>\n",
       "      <th>2</th>\n",
       "      <td>1472.0</td>\n",
       "      <td>11208.657352</td>\n",
       "    </tr>\n",
       "    <tr>\n",
       "      <th>3</th>\n",
       "      <td>206.0</td>\n",
       "      <td>10888.961979</td>\n",
       "    </tr>\n",
       "    <tr>\n",
       "      <th>4</th>\n",
       "      <td>70.0</td>\n",
       "      <td>11288.581196</td>\n",
       "    </tr>\n",
       "    <tr>\n",
       "      <th>5</th>\n",
       "      <td>48548.0</td>\n",
       "      <td>12087.819629</td>\n",
       "    </tr>\n",
       "    <tr>\n",
       "      <th>6</th>\n",
       "      <td>6078.0</td>\n",
       "      <td>11728.162334</td>\n",
       "    </tr>\n",
       "    <tr>\n",
       "      <th>7</th>\n",
       "      <td>1346.0</td>\n",
       "      <td>11528.352726</td>\n",
       "    </tr>\n",
       "    <tr>\n",
       "      <th>8</th>\n",
       "      <td>5250.0</td>\n",
       "      <td>12847.096141</td>\n",
       "    </tr>\n",
       "    <tr>\n",
       "      <th>9</th>\n",
       "      <td>373.0</td>\n",
       "      <td>12407.515003</td>\n",
       "    </tr>\n",
       "    <tr>\n",
       "      <th>10</th>\n",
       "      <td>434.0</td>\n",
       "      <td>11168.695430</td>\n",
       "    </tr>\n",
       "    <tr>\n",
       "      <th>11</th>\n",
       "      <td>8593.0</td>\n",
       "      <td>12087.819629</td>\n",
       "    </tr>\n",
       "    <tr>\n",
       "      <th>12</th>\n",
       "      <td>143.0</td>\n",
       "      <td>12127.781551</td>\n",
       "    </tr>\n",
       "    <tr>\n",
       "      <th>13</th>\n",
       "      <td>15148.0</td>\n",
       "      <td>10849.000057</td>\n",
       "    </tr>\n",
       "    <tr>\n",
       "      <th>14</th>\n",
       "      <td>32409.0</td>\n",
       "      <td>12767.172298</td>\n",
       "    </tr>\n",
       "    <tr>\n",
       "      <th>15</th>\n",
       "      <td>287.0</td>\n",
       "      <td>12527.400768</td>\n",
       "    </tr>\n",
       "    <tr>\n",
       "      <th>16</th>\n",
       "      <td>9490.0</td>\n",
       "      <td>12447.476924</td>\n",
       "    </tr>\n",
       "    <tr>\n",
       "      <th>17</th>\n",
       "      <td>1502.0</td>\n",
       "      <td>11608.276569</td>\n",
       "    </tr>\n",
       "    <tr>\n",
       "      <th>18</th>\n",
       "      <td>78991.0</td>\n",
       "      <td>12167.743473</td>\n",
       "    </tr>\n",
       "    <tr>\n",
       "      <th>19</th>\n",
       "      <td>87134.0</td>\n",
       "      <td>11168.695430</td>\n",
       "    </tr>\n",
       "    <tr>\n",
       "      <th>20</th>\n",
       "      <td>37260.0</td>\n",
       "      <td>11848.048099</td>\n",
       "    </tr>\n",
       "    <tr>\n",
       "      <th>21</th>\n",
       "      <td>1741.0</td>\n",
       "      <td>12727.210376</td>\n",
       "    </tr>\n",
       "    <tr>\n",
       "      <th>22</th>\n",
       "      <td>3013.0</td>\n",
       "      <td>12727.210376</td>\n",
       "    </tr>\n",
       "    <tr>\n",
       "      <th>23</th>\n",
       "      <td>483.0</td>\n",
       "      <td>12647.286533</td>\n",
       "    </tr>\n",
       "    <tr>\n",
       "      <th>24</th>\n",
       "      <td>13105.0</td>\n",
       "      <td>11208.657352</td>\n",
       "    </tr>\n",
       "    <tr>\n",
       "      <th>25</th>\n",
       "      <td>3572.0</td>\n",
       "      <td>10968.885822</td>\n",
       "    </tr>\n",
       "    <tr>\n",
       "      <th>26</th>\n",
       "      <td>43178.0</td>\n",
       "      <td>11368.505039</td>\n",
       "    </tr>\n",
       "    <tr>\n",
       "      <th>27</th>\n",
       "      <td>11817.0</td>\n",
       "      <td>11967.933864</td>\n",
       "    </tr>\n",
       "    <tr>\n",
       "      <th>28</th>\n",
       "      <td>22904.0</td>\n",
       "      <td>11927.971942</td>\n",
       "    </tr>\n",
       "    <tr>\n",
       "      <th>29</th>\n",
       "      <td>1884.0</td>\n",
       "      <td>9650.142407</td>\n",
       "    </tr>\n",
       "  </tbody>\n",
       "</table>\n",
       "</div>"
      ],
      "text/plain": [
       "     Actual     Predicted\n",
       "0    4372.0  12007.895786\n",
       "1    3257.0  13326.639201\n",
       "2    1472.0  11208.657352\n",
       "3     206.0  10888.961979\n",
       "4      70.0  11288.581196\n",
       "5   48548.0  12087.819629\n",
       "6    6078.0  11728.162334\n",
       "7    1346.0  11528.352726\n",
       "8    5250.0  12847.096141\n",
       "9     373.0  12407.515003\n",
       "10    434.0  11168.695430\n",
       "11   8593.0  12087.819629\n",
       "12    143.0  12127.781551\n",
       "13  15148.0  10849.000057\n",
       "14  32409.0  12767.172298\n",
       "15    287.0  12527.400768\n",
       "16   9490.0  12447.476924\n",
       "17   1502.0  11608.276569\n",
       "18  78991.0  12167.743473\n",
       "19  87134.0  11168.695430\n",
       "20  37260.0  11848.048099\n",
       "21   1741.0  12727.210376\n",
       "22   3013.0  12727.210376\n",
       "23    483.0  12647.286533\n",
       "24  13105.0  11208.657352\n",
       "25   3572.0  10968.885822\n",
       "26  43178.0  11368.505039\n",
       "27  11817.0  11967.933864\n",
       "28  22904.0  11927.971942\n",
       "29   1884.0   9650.142407"
      ]
     },
     "execution_count": 125,
     "metadata": {},
     "output_type": "execute_result"
    }
   ],
   "source": [
    "# Creating a dataframe comparing the actual and predicted values of y\n",
    "\n",
    "data = pd.DataFrame({'Actual': y_test.flatten(), 'Predicted': y_predicted.flatten()})\n",
    "data.head(30)"
   ]
  },
  {
   "cell_type": "markdown",
   "id": "15f2a1c1-3747-4661-a594-9082238e7658",
   "metadata": {},
   "source": [
    "# Some of the value pairs are quite off !"
   ]
  },
  {
   "cell_type": "markdown",
   "id": "d8d5fd4a-0a0a-4f35-b054-029abff6c168",
   "metadata": {},
   "source": [
    "# Reflections:\n",
    "# 1) I am interested in this great spread of catch numbers, with a minimum of 52 and the maximum running into the millions. I would discuss this with the client and/or steakholders. I would further look into the collection method and measurement of catch numbers, if there's any bias and/or any more outliers to exclude from the data. If outliers can be confirmed, I would train and run this model on the new data set and see if this leads to better performance of the model.\n",
    "# 2) As I'm expecting a multiple regression model to better explain this relationship of the variables, I'd run a multiple regression model."
   ]
  },
  {
   "cell_type": "code",
   "execution_count": 126,
   "id": "1e63b1d4-6ef1-4ea7-9795-8491e96c5786",
   "metadata": {},
   "outputs": [],
   "source": [
    "df_filtered.to_csv(os.path.join(path, 'Data', 'Prepared Data', 'Filtered Snow Crab.csv'))"
   ]
  },
  {
   "cell_type": "code",
   "execution_count": null,
   "id": "b9be39b4-3e57-4e4a-ba59-f0ac675c552b",
   "metadata": {},
   "outputs": [],
   "source": []
  }
 ],
 "metadata": {
  "kernelspec": {
   "display_name": "Python 3 (ipykernel)",
   "language": "python",
   "name": "python3"
  },
  "language_info": {
   "codemirror_mode": {
    "name": "ipython",
    "version": 3
   },
   "file_extension": ".py",
   "mimetype": "text/x-python",
   "name": "python",
   "nbconvert_exporter": "python",
   "pygments_lexer": "ipython3",
   "version": "3.12.7"
  }
 },
 "nbformat": 4,
 "nbformat_minor": 5
}
